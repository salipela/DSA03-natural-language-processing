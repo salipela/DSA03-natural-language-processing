{
  "nbformat": 4,
  "nbformat_minor": 0,
  "metadata": {
    "colab": {
      "provenance": [],
      "authorship_tag": "ABX9TyPNiLN5JBfL6EDxs1tWl5Rx",
      "include_colab_link": true
    },
    "kernelspec": {
      "name": "python3",
      "display_name": "Python 3"
    },
    "language_info": {
      "name": "python"
    }
  },
  "cells": [
    {
      "cell_type": "markdown",
      "metadata": {
        "id": "view-in-github",
        "colab_type": "text"
      },
      "source": [
        "<a href=\"https://colab.research.google.com/github/salipela/DSA03-natural-language-processing/blob/main/discourse.ipynb\" target=\"_parent\"><img src=\"https://colab.research.google.com/assets/colab-badge.svg\" alt=\"Open In Colab\"/></a>"
      ]
    },
    {
      "cell_type": "code",
      "execution_count": 1,
      "metadata": {
        "colab": {
          "base_uri": "https://localhost:8080/"
        },
        "id": "kPFBgGB_xv5Y",
        "outputId": "0dc8fe7e-449e-4195-dd94-058e42dd1818"
      },
      "outputs": [
        {
          "output_type": "stream",
          "name": "stdout",
          "text": [
            "Sentence: Although it was raining, John went for a run.\n",
            "   - Discourse Marker: Although\n",
            "\n",
            "Sentence: However, he got soaked.\n",
            "\n"
          ]
        }
      ],
      "source": [
        "import spacy\n",
        "\n",
        "nlp = spacy.load(\"en_core_web_sm\")\n",
        "\n",
        "\n",
        "text = \"Although it was raining, John went for a run. However, he got soaked.\"\n",
        "\n",
        "doc = nlp(text)\n",
        "\n",
        "\n",
        "for sent in doc.sents:\n",
        "    print(f\"Sentence: {sent.text}\")\n",
        "    for token in sent:\n",
        "        if token.dep_ == \"mark\":\n",
        "            print(f\"   - Discourse Marker: {token.text}\")\n",
        "            for child in token.children:\n",
        "                if child.dep_ == \"advcl\":\n",
        "                    print(f\"      - Adverbial Clause: {child.text}\")\n",
        "                elif child.dep_ == \"cc\":\n",
        "                    print(f\"      - Coordinating Conjunction: {child.text}\")\n",
        "    print()\n"
      ]
    }
  ]
}