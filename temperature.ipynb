{
  "nbformat": 4,
  "nbformat_minor": 0,
  "metadata": {
    "colab": {
      "provenance": [],
      "authorship_tag": "ABX9TyO2eP18VaIYud1rJL2ve92M",
      "include_colab_link": true
    },
    "kernelspec": {
      "name": "python3",
      "display_name": "Python 3"
    },
    "language_info": {
      "name": "python"
    }
  },
  "cells": [
    {
      "cell_type": "markdown",
      "metadata": {
        "id": "view-in-github",
        "colab_type": "text"
      },
      "source": [
        "<a href=\"https://colab.research.google.com/github/salipela/DSA03-natural-language-processing/blob/main/temperature.ipynb\" target=\"_parent\"><img src=\"https://colab.research.google.com/assets/colab-badge.svg\" alt=\"Open In Colab\"/></a>"
      ]
    },
    {
      "cell_type": "code",
      "execution_count": 2,
      "metadata": {
        "colab": {
          "base_uri": "https://localhost:8080/"
        },
        "id": "yRDGEvVV3-iu",
        "outputId": "12cdd51f-80da-4339-fd0f-38093749051f"
      },
      "outputs": [
        {
          "output_type": "stream",
          "name": "stdout",
          "text": [
            "Temperature: 25 degrees\n"
          ]
        }
      ],
      "source": [
        "import re\n",
        "text = \"The temperature outside is 25 degrees Celsius, and it feels quite warm.\"\n",
        "temperature_pattern = r'\\b(\\d+(\\.\\d+)?)(\\s*(degrees?|°)\\s*(Celsius|C|Fahrenheit|F))?\\b'\n",
        "matches = re.findall(temperature_pattern, text, re.IGNORECASE)\n",
        "for match in matches:\n",
        "    temperature_value, _, _, unit = match[0], match[1], match[2], match[3]\n",
        "    print(f\"Temperature: {temperature_value} {unit}\")\n"
      ]
    }
  ]
}