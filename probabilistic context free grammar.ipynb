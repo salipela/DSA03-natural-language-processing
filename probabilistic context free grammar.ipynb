{
  "nbformat": 4,
  "nbformat_minor": 0,
  "metadata": {
    "colab": {
      "provenance": [],
      "authorship_tag": "ABX9TyMkkOjBAF2+q7v48Sytocr/",
      "include_colab_link": true
    },
    "kernelspec": {
      "name": "python3",
      "display_name": "Python 3"
    },
    "language_info": {
      "name": "python"
    }
  },
  "cells": [
    {
      "cell_type": "markdown",
      "metadata": {
        "id": "view-in-github",
        "colab_type": "text"
      },
      "source": [
        "<a href=\"https://colab.research.google.com/github/salipela/DSA03-natural-language-processing/blob/main/probabilistic%20context%20free%20grammar.ipynb\" target=\"_parent\"><img src=\"https://colab.research.google.com/assets/colab-badge.svg\" alt=\"Open In Colab\"/></a>"
      ]
    },
    {
      "cell_type": "code",
      "execution_count": 1,
      "metadata": {
        "colab": {
          "base_uri": "https://localhost:8080/"
        },
        "id": "gPLo764c6h-C",
        "outputId": "25c0603d-e259-4142-fe75-8c1a9106c8e9"
      },
      "outputs": [
        {
          "output_type": "stream",
          "name": "stdout",
          "text": [
            "Generated sentences:\n",
            "the dog chased the dog\n",
            "the dog chased the cat\n",
            "the dog chased a dog\n",
            "the dog chased a cat\n",
            "the dog chased the dog with the dog\n",
            "             S             \n",
            "  ___________|___           \n",
            " |               VP        \n",
            " |      _________|___       \n",
            " |     |             NP    \n",
            " |     |          ___|___   \n",
            " NP    V        Det      N \n",
            " |     |         |       |  \n",
            "John chased     the     dog\n",
            "\n"
          ]
        }
      ],
      "source": [
        "import nltk\n",
        "from nltk import PCFG\n",
        "from nltk import CFG\n",
        "from nltk.parse.generate import generate\n",
        "pcfg_grammar = PCFG.fromstring(\"\"\"\n",
        "    S -> NP VP [1.0]\n",
        "    VP -> V NP [0.7] | V [0.3]\n",
        "    NP -> Det N [0.5] | NP PP [0.3] | 'John' [0.2]\n",
        "    PP -> P NP [1.0]\n",
        "    Det -> 'the' [0.6] | 'a' [0.4]\n",
        "    N -> 'dog' [0.6] | 'cat' [0.4]\n",
        "    V -> 'chased' [0.7] | 'saw' [0.3]\n",
        "    P -> 'with' [0.6] | 'in' [0.4]\n",
        "\"\"\")\n",
        "\n",
        "\n",
        "print(\"Generated sentences:\")\n",
        "for sentence in generate(pcfg_grammar, n=5):\n",
        "    print(' '.join(sentence))\n",
        "\n",
        "\n",
        "parser = nltk.ChartParser(pcfg_grammar)\n",
        "sentence = \"John chased the dog\".split()\n",
        "for tree in parser.parse(sentence):\n",
        "    tree.pretty_print()"
      ]
    }
  ]
}