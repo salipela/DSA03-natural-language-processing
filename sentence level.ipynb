{
  "nbformat": 4,
  "nbformat_minor": 0,
  "metadata": {
    "colab": {
      "provenance": [],
      "authorship_tag": "ABX9TyPm9ag35dcePTCmVicIcsAE",
      "include_colab_link": true
    },
    "kernelspec": {
      "name": "python3",
      "display_name": "Python 3"
    },
    "language_info": {
      "name": "python"
    }
  },
  "cells": [
    {
      "cell_type": "markdown",
      "metadata": {
        "id": "view-in-github",
        "colab_type": "text"
      },
      "source": [
        "<a href=\"https://colab.research.google.com/github/salipela/DSA03-natural-language-processing/blob/main/sentence%20level.ipynb\" target=\"_parent\"><img src=\"https://colab.research.google.com/assets/colab-badge.svg\" alt=\"Open In Colab\"/></a>"
      ]
    },
    {
      "cell_type": "code",
      "execution_count": 2,
      "metadata": {
        "colab": {
          "base_uri": "https://localhost:8080/"
        },
        "id": "DfRiOxxBjeDe",
        "outputId": "a596232a-cbc6-452f-b7c2-efb958423067"
      },
      "outputs": [
        {
          "output_type": "stream",
          "name": "stdout",
          "text": [
            "Sentences:\n",
            "  1. \n",
            "    Natural language processing (NLP) is a field of study focused on making it possible for computers to understand, interpret, and generate human language.\n",
            "  2. It involves a wide range of tasks, such as text tokenization, part-of-speech tagging, named entity recognition, sentiment analysis, and more.\n",
            "  3. This program demonstrates basic sentence-level NLP using spaCy.\n",
            "    \n"
          ]
        }
      ],
      "source": [
        "import spacy\n",
        "\n",
        "\n",
        "nlp = spacy.load(\"en_core_web_sm\")\n",
        "\n",
        "def perform_sentence_nlp(text):\n",
        "\n",
        "    doc = nlp(text)\n",
        "\n",
        "\n",
        "    sentences = list(doc.sents)\n",
        "\n",
        "    print(\"Sentences:\")\n",
        "    for i, sentence in enumerate(sentences, 1):\n",
        "        print(f\"  {i}. {sentence.text}\")\n",
        "\n",
        "\n",
        "\n",
        "if __name__ == \"__main__\":\n",
        "    input_text = \"\"\"\n",
        "    Natural language processing (NLP) is a field of study focused on making it possible for computers to understand, interpret, and generate human language. It involves a wide range of tasks, such as text tokenization, part-of-speech tagging, named entity recognition, sentiment analysis, and more. This program demonstrates basic sentence-level NLP using spaCy.\n",
        "    \"\"\"\n",
        "\n",
        "    perform_sentence_nlp(input_text)\n"
      ]
    }
  ]
}